{
  "nbformat": 4,
  "nbformat_minor": 0,
  "metadata": {
    "colab": {
      "provenance": []
    },
    "kernelspec": {
      "name": "python3",
      "display_name": "Python 3"
    },
    "language_info": {
      "name": "python"
    }
  },
  "cells": [
    {
      "cell_type": "markdown",
      "source": [
        "<img src=https://upload.wikimedia.org/wikipedia/commons/thumb/d/d6/Logo_de_la_Universidad_ICESI.svg/2560px-Logo_de_la_Universidad_ICESI.svg.png width=\"300\" height=\"100\" align=\"center\">\n",
        "\n",
        "#**<big><big>ÁLGEBRA Y FUNCIONES</big></big><br><small>** Departamento de Pensamiento Lógico y Matemático </small><br><small>Ruta: Ecuaciones"
      ],
      "metadata": {
        "id": "Zx0sk0jmK58c"
      }
    },
    {
      "cell_type": "markdown",
      "source": [
        "## **Secciones**\n",
        "\n",
        "* 3.1 Introducción\n",
        "* 3.2 Traducción de palabras a una ecuación\n",
        "* 3.3 Ecuaciones Cuadráticas\n",
        "\n",
        "\n",
        "## **Objetivo**\n",
        "\n",
        "Fortalecer el pensamiento crítico y la resolución de problemas mediante la identificación de expresiones algebraicas, ecuaciones y factorización, para mejorar la comprensión y habilidades fundamentales en álgebra.\n",
        "\n",
        "\n"
      ],
      "metadata": {
        "id": "-p21o8dcMK5F"
      }
    },
    {
      "cell_type": "markdown",
      "source": [
        "### Antes de Clase\n",
        "\n",
        "1. Después de estudiar y tomar nota de los conceptos más importantes del PDF (material de estudio), observar el siguiente [Video](https://youtu.be/fKg_sOjip74) y resolver la siguiente ecuación.\n",
        "\n",
        "$$\\frac{3x+5}{2}-4=x+1$$"
      ],
      "metadata": {
        "id": "8UMtYaAtM480"
      }
    },
    {
      "cell_type": "code",
      "source": [],
      "metadata": {
        "id": "XfG3LlVtRlJe"
      },
      "execution_count": null,
      "outputs": []
    },
    {
      "cell_type": "code",
      "source": [
        "#@title.Relación matemáticas y Computación  {display-mode:\"form\"}\n",
        "from IPython.display import YouTubeVideo\n",
        "\n",
        "YouTubeVideo(\"fKg_sOjip74\" , width=800, height=450)"
      ],
      "metadata": {
        "colab": {
          "base_uri": "https://localhost:8080/",
          "height": 491
        },
        "id": "jkscA6D0oNrH",
        "outputId": "9e50e7f2-f4a0-4fd5-8c82-34cfe727cac5"
      },
      "execution_count": null,
      "outputs": [
        {
          "output_type": "execute_result",
          "data": {
            "text/plain": [
              "<IPython.lib.display.YouTubeVideo at 0x7f2cf0f0cbe0>"
            ],
            "text/html": [
              "\n",
              "        <iframe\n",
              "            width=\"800\"\n",
              "            height=\"450\"\n",
              "            src=\"https://www.youtube.com/embed/fKg_sOjip74\"\n",
              "            frameborder=\"0\"\n",
              "            allowfullscreen\n",
              "            \n",
              "        ></iframe>\n",
              "        "
            ],
            "image/jpeg": "[encoded data removed]"
          },
          "metadata": {},
          "execution_count": 3
        }
      ]
    },
    {
      "cell_type": "markdown",
      "source": [
        "<img src=https://2.bp.blogspot.com/-Df-OC6Tm7qQ/Ug1cWpHiuyI/AAAAAAAACJ0/aHqNuDuyak4/s1600/diofanto-edad-ecuacion-incognita-tiempo-vida-1.jpg width=\"200\" height=\"200\" align=\"right\">\n",
        "\n",
        "---\n",
        "2.  El desarrollo de la Aritmética y el Algebra toma un gran impulso con los griegos del periodo Alejandrino. Son precisamente Herón, Nichomachus y Diofanto quienes empiezan a considerar los problemas aritméticos y algebraicos en sí mismos y no como simples instrumentos para calcular cantidades geométricas, descubriendo que las fuentes del Álgebra estaban en el arte de sumar y multiplicar números enteros y en el reemplazo de números por símbolos, que les permitía operar de forma general. De Diofanto y su obra conocemos muy poco, pero en la siguiente actividad encontrarás algunos datos importantes sobre su\n",
        "vida, que según el historiador Metrodoro, se encontraba en el epitafio de su tumba.\n",
        "\n",
        " Accede al siguiente [Link]( http://objetos.unam.mx/matematicas/diofanto/index.html) y desarrolla la actividad que se propone sobre la traducción del lenguaje verbal al lenguaje algebraico y reflexiona, a partir de la actividad, acerca de cuáles son los pasos generales que debes tener en cuenta para resolver un problema a partir del planteamiento de una ecuación lineal y compara lo realizado en las reglas dadas en el esquema de la página 11.\n",
        "---"
      ],
      "metadata": {
        "id": "s9rhV0v3NRJW"
      }
    },
    {
      "cell_type": "markdown",
      "source": [
        "3. Completar la siguiente tabla\n",
        "\n",
        "| Lenguaje natural                                      | Lenguaje algebraico                              |\n",
        "|--------------------------------------------------------|--------------------------------------------------|\n",
        "| El doble de la suma de dos números consecutivos es 54. |                              |\n",
        "| La mitad de la suma de dos números multiplicado por... |                |\n",
        "| La diferencia entre un número y su anterior            |                                    |\n",
        "| La suma entre un número par y el triple del siguiente... |                                 |\n",
        "| 10 más que 3 veces un número                            |                                    |\n",
        "| Tres números impares consecutivos                       |                            |\n",
        "| La tercera parte de un número incrementado en 5        |                        |\n",
        "| La diferencia de dos números cuadrados                 |                                  |\n",
        "| La edad de Ana es el triple de la edad de Juan          | |\n"
      ],
      "metadata": {
        "id": "ymRD9hQJN0Ef"
      }
    },
    {
      "cell_type": "markdown",
      "source": [
        "## Durante la clase\n",
        "Ejercicios asignados por el profesor. Se sugieren los siguientes ejercicios.\n",
        "\n",
        "a. La base de un triangulo es 3 cm mas larga que la altura. Si el área del triangulo es 119 cm$^2$, halle la base y la altura.\n",
        "\n",
        "b. Se hace un recipiente con una pequeña hoja cuadrada, cortando un cuadrado de 3 cm es sus esquinas y doblando los lados. La caja tiene un volumen de 48 cm$^3$ . Halle la longitud del tamaño original de la hoja.\n",
        "\n",
        "c. El señor Arturo compra algunas acciones en $ \\$ 720$. Si hubiera comprado las acciones el día anterior, cuando el precio por acción era de $\\$15$ menos, habría comprado 4 acciones más. ¿Cuántas acciones compro el señor Arturo?\n",
        "\n",
        "d. En una circunferencia se trazan dos cuerdas paralelas de medidas 4 cm y 14 cm. Si la distancia entre las cuerdas es de 3 cm, hallar el radio de la circunferencia.\n",
        "\n",
        "e. Realizar la siguiente [Actividad de Khan]( https://es.khanacademy.org/math/algebra/x2f8bb11595b61c86:solve-equations-inequalities/x2f8bb11595b61c86:linear-equations-parentheses/quiz/x2f8bb11595b61c86:solve-equations-inequalities-quiz-1?referrer=upsell)\n",
        "\n"
      ],
      "metadata": {
        "id": "2xtq6r-UOmw1"
      }
    },
    {
      "cell_type": "markdown",
      "source": [
        "## Despues de clase\n",
        "Realizar los ejercicios de la columna C1 para socializar en clase, la columna C2 se proponen como ejercicios de práctica.\n",
        "\n",
        "[Libro]( https://drive.google.com/file/d/1uezlhVze0c7kjF9jif8Y9f67cgYuX1hz/view?usp=sharing)  En esta enlace podremos encontrar el recurso del libro para ubicar y resolver los siguientes ejercicios\n",
        "\n",
        "\n",
        "* Sesión 3.1\n",
        "\n",
        "\\begin{array}{|c|c|}\n",
        "\\hline\n",
        "\\text{C1} & \\text{C2} \\\\\n",
        "\\hline\n",
        "4 & 5 \\\\\n",
        "14 & 17 \\\\\n",
        "39 & 42 \\\\\n",
        "62 & 59 \\\\\n",
        "\\hline\n",
        "\\end{array}\n",
        "\n",
        "* Sesión 3.2\n",
        "\n",
        "\\begin{array}{|c|c|}\n",
        "\\hline\n",
        "\\text{C1} & \\text{C2} \\\\\n",
        "\\hline\n",
        "5 & 6 \\\\\n",
        "7 & 10 \\\\\n",
        "19 & 21 \\\\\n",
        "27 & 28 \\\\\n",
        "\\hline\n",
        "\\end{array}\n",
        "\n",
        "* Sesión 3.3\n",
        "\n",
        "\\begin{array}{|c|c|}\n",
        "\\hline\n",
        "\\text{C1} & \\text{C2} \\\\\n",
        "\\hline\n",
        "2 & 3 \\\\\n",
        "15 & 14 \\\\\n",
        "62 & 21 \\\\\n",
        "67 & 68 \\\\\n",
        "\\hline\n",
        "\\end{array}"
      ],
      "metadata": {
        "id": "RZbDOL4_PQ49"
      }
    },
    {
      "cell_type": "markdown",
      "source": [
        "# **Presentación del Siguiente Tema**\n",
        "\n",
        "### **Ruta Sistemas de ecuaciones 2x2 Lineales y no Lineales**\n",
        "#### Secciones\n",
        "8.1 y 8.2 Sistemas de ecuaciones lineales y no lineales\n",
        "### Texto de Referencia\n",
        "Stewart y Redlin. Precálculo. International Thomson Editores. Tercera Edición, 2001.\n",
        "\n",
        "## Objetivo:\n",
        "\n",
        " Solucionar situaciones problema planteando y resolviendo ecuaciones, inecuaciones o sistemas de ecuaciones lineales $2\\times 2$.\n",
        "\n",
        " 1. Menciona qué métodos recuerdas para solucionar un sistema de ecuaciones $2\\times 2$\n",
        "\n",
        "2. Resuelve el siguiente sistema y utiliza geogebra para validar la respuesta.\n",
        "\n",
        "\\begin{cases}\n",
        "  \\begin{aligned}\n",
        "     3x + 2y &= -2 \\\\\n",
        "    -2x - y & =  1\n",
        "  \\end{aligned}\n",
        "\\end{cases}\n"
      ],
      "metadata": {
        "id": "q-9S7J2eQKw0"
      }
    },
    {
      "cell_type": "code",
      "source": [],
      "metadata": {
        "id": "K7xl4cj3PHqr"
      },
      "execution_count": null,
      "outputs": []
    }
  ]
}